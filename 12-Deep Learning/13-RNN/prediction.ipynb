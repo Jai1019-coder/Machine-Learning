{
 "cells": [
  {
   "cell_type": "code",
   "execution_count": 12,
   "id": "df927af7",
   "metadata": {},
   "outputs": [],
   "source": [
    "import numpy as np\n",
    "import tensorflow as tf\n",
    "from tensorflow.keras.datasets import imdb\n",
    "from tensorflow.keras.preprocessing.sequence import pad_sequences\n",
    "from tensorflow.keras.models import Sequential\n",
    "from tensorflow.keras.layers import Embedding, SimpleRNN, Dense\n",
    "from tensorflow.keras.models import load_model"
   ]
  },
  {
   "cell_type": "code",
   "execution_count": 16,
   "id": "aa5c2a75",
   "metadata": {},
   "outputs": [
    {
     "name": "stdout",
     "output_type": "stream",
     "text": [
      "Downloading data from https://storage.googleapis.com/tensorflow/tf-keras-datasets/imdb_word_index.json\n",
      "\u001b[1m1641221/1641221\u001b[0m \u001b[32m━━━━━━━━━━━━━━━━━━━━\u001b[0m\u001b[37m\u001b[0m \u001b[1m0s\u001b[0m 0us/step\n"
     ]
    }
   ],
   "source": [
    "word_index = imdb.get_word_index()\n",
    "reverse_word_index = {values:key for key, values in word_index.items()}"
   ]
  },
  {
   "cell_type": "code",
   "execution_count": 14,
   "id": "0a25cb3c",
   "metadata": {},
   "outputs": [
    {
     "name": "stderr",
     "output_type": "stream",
     "text": [
      "WARNING:absl:Compiled the loaded model, but the compiled metrics have yet to be built. `model.compile_metrics` will be empty until you train or evaluate the model.\n"
     ]
    },
    {
     "data": {
      "text/html": [
       "<pre style=\"white-space:pre;overflow-x:auto;line-height:normal;font-family:Menlo,'DejaVu Sans Mono',consolas,'Courier New',monospace\"><span style=\"font-weight: bold\">Model: \"sequential\"</span>\n",
       "</pre>\n"
      ],
      "text/plain": [
       "\u001b[1mModel: \"sequential\"\u001b[0m\n"
      ]
     },
     "metadata": {},
     "output_type": "display_data"
    },
    {
     "data": {
      "text/html": [
       "<pre style=\"white-space:pre;overflow-x:auto;line-height:normal;font-family:Menlo,'DejaVu Sans Mono',consolas,'Courier New',monospace\">┏━━━━━━━━━━━━━━━━━━━━━━━━━━━━━━━━━┳━━━━━━━━━━━━━━━━━━━━━━━━┳━━━━━━━━━━━━━━━┓\n",
       "┃<span style=\"font-weight: bold\"> Layer (type)                    </span>┃<span style=\"font-weight: bold\"> Output Shape           </span>┃<span style=\"font-weight: bold\">       Param # </span>┃\n",
       "┡━━━━━━━━━━━━━━━━━━━━━━━━━━━━━━━━━╇━━━━━━━━━━━━━━━━━━━━━━━━╇━━━━━━━━━━━━━━━┩\n",
       "│ embedding (<span style=\"color: #0087ff; text-decoration-color: #0087ff\">Embedding</span>)           │ (<span style=\"color: #00af00; text-decoration-color: #00af00\">25</span>, <span style=\"color: #00af00; text-decoration-color: #00af00\">500</span>, <span style=\"color: #00af00; text-decoration-color: #00af00\">128</span>)         │       <span style=\"color: #00af00; text-decoration-color: #00af00\">128,000</span> │\n",
       "├─────────────────────────────────┼────────────────────────┼───────────────┤\n",
       "│ simple_rnn (<span style=\"color: #0087ff; text-decoration-color: #0087ff\">SimpleRNN</span>)          │ (<span style=\"color: #00af00; text-decoration-color: #00af00\">25</span>, <span style=\"color: #00af00; text-decoration-color: #00af00\">128</span>)              │        <span style=\"color: #00af00; text-decoration-color: #00af00\">32,896</span> │\n",
       "├─────────────────────────────────┼────────────────────────┼───────────────┤\n",
       "│ dense (<span style=\"color: #0087ff; text-decoration-color: #0087ff\">Dense</span>)                   │ (<span style=\"color: #00af00; text-decoration-color: #00af00\">25</span>, <span style=\"color: #00af00; text-decoration-color: #00af00\">1</span>)                │           <span style=\"color: #00af00; text-decoration-color: #00af00\">129</span> │\n",
       "└─────────────────────────────────┴────────────────────────┴───────────────┘\n",
       "</pre>\n"
      ],
      "text/plain": [
       "┏━━━━━━━━━━━━━━━━━━━━━━━━━━━━━━━━━┳━━━━━━━━━━━━━━━━━━━━━━━━┳━━━━━━━━━━━━━━━┓\n",
       "┃\u001b[1m \u001b[0m\u001b[1mLayer (type)                   \u001b[0m\u001b[1m \u001b[0m┃\u001b[1m \u001b[0m\u001b[1mOutput Shape          \u001b[0m\u001b[1m \u001b[0m┃\u001b[1m \u001b[0m\u001b[1m      Param #\u001b[0m\u001b[1m \u001b[0m┃\n",
       "┡━━━━━━━━━━━━━━━━━━━━━━━━━━━━━━━━━╇━━━━━━━━━━━━━━━━━━━━━━━━╇━━━━━━━━━━━━━━━┩\n",
       "│ embedding (\u001b[38;5;33mEmbedding\u001b[0m)           │ (\u001b[38;5;34m25\u001b[0m, \u001b[38;5;34m500\u001b[0m, \u001b[38;5;34m128\u001b[0m)         │       \u001b[38;5;34m128,000\u001b[0m │\n",
       "├─────────────────────────────────┼────────────────────────┼───────────────┤\n",
       "│ simple_rnn (\u001b[38;5;33mSimpleRNN\u001b[0m)          │ (\u001b[38;5;34m25\u001b[0m, \u001b[38;5;34m128\u001b[0m)              │        \u001b[38;5;34m32,896\u001b[0m │\n",
       "├─────────────────────────────────┼────────────────────────┼───────────────┤\n",
       "│ dense (\u001b[38;5;33mDense\u001b[0m)                   │ (\u001b[38;5;34m25\u001b[0m, \u001b[38;5;34m1\u001b[0m)                │           \u001b[38;5;34m129\u001b[0m │\n",
       "└─────────────────────────────────┴────────────────────────┴───────────────┘\n"
      ]
     },
     "metadata": {},
     "output_type": "display_data"
    },
    {
     "data": {
      "text/html": [
       "<pre style=\"white-space:pre;overflow-x:auto;line-height:normal;font-family:Menlo,'DejaVu Sans Mono',consolas,'Courier New',monospace\"><span style=\"font-weight: bold\"> Total params: </span><span style=\"color: #00af00; text-decoration-color: #00af00\">161,027</span> (629.02 KB)\n",
       "</pre>\n"
      ],
      "text/plain": [
       "\u001b[1m Total params: \u001b[0m\u001b[38;5;34m161,027\u001b[0m (629.02 KB)\n"
      ]
     },
     "metadata": {},
     "output_type": "display_data"
    },
    {
     "data": {
      "text/html": [
       "<pre style=\"white-space:pre;overflow-x:auto;line-height:normal;font-family:Menlo,'DejaVu Sans Mono',consolas,'Courier New',monospace\"><span style=\"font-weight: bold\"> Trainable params: </span><span style=\"color: #00af00; text-decoration-color: #00af00\">161,025</span> (629.00 KB)\n",
       "</pre>\n"
      ],
      "text/plain": [
       "\u001b[1m Trainable params: \u001b[0m\u001b[38;5;34m161,025\u001b[0m (629.00 KB)\n"
      ]
     },
     "metadata": {},
     "output_type": "display_data"
    },
    {
     "data": {
      "text/html": [
       "<pre style=\"white-space:pre;overflow-x:auto;line-height:normal;font-family:Menlo,'DejaVu Sans Mono',consolas,'Courier New',monospace\"><span style=\"font-weight: bold\"> Non-trainable params: </span><span style=\"color: #00af00; text-decoration-color: #00af00\">0</span> (0.00 B)\n",
       "</pre>\n"
      ],
      "text/plain": [
       "\u001b[1m Non-trainable params: \u001b[0m\u001b[38;5;34m0\u001b[0m (0.00 B)\n"
      ]
     },
     "metadata": {},
     "output_type": "display_data"
    },
    {
     "data": {
      "text/html": [
       "<pre style=\"white-space:pre;overflow-x:auto;line-height:normal;font-family:Menlo,'DejaVu Sans Mono',consolas,'Courier New',monospace\"><span style=\"font-weight: bold\"> Optimizer params: </span><span style=\"color: #00af00; text-decoration-color: #00af00\">2</span> (12.00 B)\n",
       "</pre>\n"
      ],
      "text/plain": [
       "\u001b[1m Optimizer params: \u001b[0m\u001b[38;5;34m2\u001b[0m (12.00 B)\n"
      ]
     },
     "metadata": {},
     "output_type": "display_data"
    }
   ],
   "source": [
    "model = load_model('simple_rnn_imdb.h5')\n",
    "model.summary()"
   ]
  },
  {
   "cell_type": "code",
   "execution_count": 15,
   "id": "901ded87",
   "metadata": {},
   "outputs": [
    {
     "data": {
      "text/plain": [
       "[array([[-0.04075189,  0.23707266, -0.04425325, ...,  0.06358232,\n",
       "          0.14317371,  0.15294816],\n",
       "        [-0.01419552, -0.01252169,  0.00159679, ..., -0.01222592,\n",
       "         -0.05909599, -0.0525274 ],\n",
       "        [ 0.09360859, -0.03758175, -0.03821437, ..., -0.0525563 ,\n",
       "         -0.02824563, -0.01299768],\n",
       "        ...,\n",
       "        [-0.09709489, -0.163351  ,  0.22535312, ...,  0.05709922,\n",
       "         -0.5695526 ,  0.00965206],\n",
       "        [-0.04788806, -0.00251744,  0.0253484 , ..., -0.04412328,\n",
       "          0.03618584, -0.01821662],\n",
       "        [-0.3579613 , -0.17596237,  0.03110517, ..., -0.10260399,\n",
       "         -0.44224036,  0.0369277 ]], dtype=float32),\n",
       " array([[-0.17473978, -0.01011315, -0.06171831, ..., -0.08834611,\n",
       "         -0.13058197, -0.1118517 ],\n",
       "        [ 0.12643854,  0.07405404,  0.06722458, ..., -0.09794523,\n",
       "          0.0530915 , -0.12397791],\n",
       "        [ 0.11650997, -0.03889141, -0.07868643, ...,  0.04895309,\n",
       "          0.11495681, -0.00390061],\n",
       "        ...,\n",
       "        [ 0.04956939,  0.01241155,  0.06889579, ...,  0.14742576,\n",
       "          0.10239598,  0.06308272],\n",
       "        [ 0.0315418 , -0.00022088, -0.04088998, ...,  0.10708213,\n",
       "         -0.06313846,  0.04805753],\n",
       "        [-0.01639886, -0.10388868,  0.07323149, ..., -0.01043718,\n",
       "          0.17315735,  0.09594677]], dtype=float32),\n",
       " array([[ 0.00718931,  0.09675752, -0.12704727, ...,  0.07805168,\n",
       "         -0.12680739,  0.00158375],\n",
       "        [-0.11254244, -0.02463889, -0.1778576 , ..., -0.05686338,\n",
       "          0.09008284, -0.10777185],\n",
       "        [ 0.10317218,  0.11054172, -0.12748538, ...,  0.06173363,\n",
       "          0.04005319, -0.059988  ],\n",
       "        ...,\n",
       "        [-0.05791457,  0.01942773, -0.0711906 , ...,  0.02809041,\n",
       "          0.13372156,  0.00141666],\n",
       "        [-0.09076586, -0.08497605, -0.01028894, ..., -0.22222331,\n",
       "         -0.07696094, -0.03155569],\n",
       "        [ 0.06141162, -0.06140735,  0.10342745, ..., -0.0347917 ,\n",
       "          0.04538179,  0.08361421]], dtype=float32),\n",
       " array([-0.01123709, -0.0132266 , -0.02227036,  0.00515244, -0.0179505 ,\n",
       "         0.00776692, -0.02111432,  0.00083397,  0.00062264, -0.00291873,\n",
       "        -0.02487341, -0.02286652, -0.01508136, -0.02202881,  0.01745787,\n",
       "        -0.0306203 , -0.01188373,  0.00017088, -0.00354063, -0.00857928,\n",
       "        -0.01896791, -0.01685331, -0.00197712,  0.00888154,  0.01071355,\n",
       "        -0.02752056, -0.00888632, -0.03104082, -0.01127234, -0.01654975,\n",
       "        -0.00968201, -0.00396852,  0.01771958, -0.00749525, -0.0023656 ,\n",
       "        -0.01399063, -0.02254304,  0.00303322, -0.00462764, -0.00884665,\n",
       "         0.01291752,  0.02307462, -0.01095402, -0.02288329, -0.01467633,\n",
       "        -0.03106174, -0.00558527,  0.00544139, -0.00310735,  0.01010503,\n",
       "        -0.04059033, -0.02074207, -0.01006696, -0.01353818,  0.01906193,\n",
       "        -0.00115576, -0.02130747,  0.01317651, -0.00578321, -0.02140694,\n",
       "         0.00163571, -0.01519716, -0.01183784, -0.01187736, -0.00175445,\n",
       "        -0.01447604, -0.01014807,  0.00010993, -0.03204941,  0.00304096,\n",
       "        -0.01707919, -0.00159089,  0.00561241, -0.0007151 , -0.00411241,\n",
       "        -0.01799622, -0.00589068, -0.02510492, -0.01973584, -0.00372933,\n",
       "        -0.02514488, -0.03022312, -0.00172818, -0.00910341,  0.00206471,\n",
       "        -0.02362477, -0.01085021,  0.00957168, -0.00672264,  0.00978412,\n",
       "        -0.01524149,  0.00153274, -0.00961355, -0.0069128 , -0.01681979,\n",
       "        -0.0140191 , -0.0218414 , -0.02155645, -0.00233918,  0.00013236,\n",
       "         0.02954565, -0.01595314,  0.00019111, -0.01199967, -0.00664391,\n",
       "         0.0081144 ,  0.01756902, -0.01413551,  0.00016635, -0.002586  ,\n",
       "        -0.02010242, -0.02461301, -0.0030011 ,  0.00389414, -0.01955835,\n",
       "        -0.01770645, -0.00843029, -0.01743101, -0.03393066, -0.00669595,\n",
       "        -0.02403578, -0.00371996,  0.01089429, -0.01786519,  0.00473769,\n",
       "         0.00628065, -0.01292312, -0.02806311], dtype=float32),\n",
       " array([[-1.58740655e-01],\n",
       "        [ 1.22555494e-01],\n",
       "        [ 2.31055897e-02],\n",
       "        [-3.69419873e-01],\n",
       "        [-5.53680360e-01],\n",
       "        [ 1.52513951e-01],\n",
       "        [ 1.75733075e-01],\n",
       "        [-3.85425426e-02],\n",
       "        [ 2.21875191e-01],\n",
       "        [ 1.17686734e-01],\n",
       "        [ 8.72650221e-02],\n",
       "        [-1.32526368e-01],\n",
       "        [-7.15143159e-02],\n",
       "        [-4.25798781e-02],\n",
       "        [-4.37312722e-02],\n",
       "        [ 6.88125864e-02],\n",
       "        [ 1.94198757e-01],\n",
       "        [ 7.05853850e-02],\n",
       "        [ 2.06928581e-01],\n",
       "        [-2.65451729e-01],\n",
       "        [-3.35466146e-01],\n",
       "        [-1.89391822e-01],\n",
       "        [-2.20938444e-01],\n",
       "        [ 2.02770904e-01],\n",
       "        [ 2.52887961e-02],\n",
       "        [-6.61955625e-02],\n",
       "        [ 1.30884543e-01],\n",
       "        [-3.37618899e+00],\n",
       "        [ 2.25264624e-01],\n",
       "        [-3.60565856e-02],\n",
       "        [-6.99504614e-02],\n",
       "        [-1.27601907e-01],\n",
       "        [-2.11109996e-01],\n",
       "        [-1.60045341e-01],\n",
       "        [ 1.20148726e-01],\n",
       "        [-4.52350378e-02],\n",
       "        [-6.81979209e-02],\n",
       "        [ 9.79568139e-02],\n",
       "        [ 2.46203661e-01],\n",
       "        [-6.51912391e-02],\n",
       "        [ 1.71104699e-01],\n",
       "        [-5.04988246e-04],\n",
       "        [ 1.51404724e-01],\n",
       "        [ 1.16660923e-01],\n",
       "        [-2.12343127e-01],\n",
       "        [ 1.06694221e-01],\n",
       "        [-9.59638208e-02],\n",
       "        [ 2.07150713e-01],\n",
       "        [ 3.19224931e-02],\n",
       "        [ 2.50978202e-01],\n",
       "        [-9.07476768e-02],\n",
       "        [-1.55215129e-01],\n",
       "        [-1.25491902e-01],\n",
       "        [-2.28137434e-01],\n",
       "        [-4.26677346e-01],\n",
       "        [-1.57784045e-01],\n",
       "        [-1.84691072e-01],\n",
       "        [ 3.46379519e-01],\n",
       "        [ 6.42826334e-02],\n",
       "        [-4.63899858e-02],\n",
       "        [ 6.21684790e-02],\n",
       "        [-6.78037107e-02],\n",
       "        [ 1.67343140e-01],\n",
       "        [-7.56628141e-02],\n",
       "        [-1.41776115e-01],\n",
       "        [-1.98770940e-01],\n",
       "        [-9.43587944e-02],\n",
       "        [-1.96551219e-01],\n",
       "        [-1.71177614e+00],\n",
       "        [-1.96015149e-01],\n",
       "        [ 1.39561042e-01],\n",
       "        [-3.69757786e-02],\n",
       "        [-2.56778270e-01],\n",
       "        [ 1.82822138e-01],\n",
       "        [-7.36123696e-02],\n",
       "        [-1.38594314e-01],\n",
       "        [ 1.27980739e-01],\n",
       "        [ 8.28377530e-02],\n",
       "        [ 5.00514219e-03],\n",
       "        [-5.08331992e-02],\n",
       "        [-2.63435817e+00],\n",
       "        [ 6.39730021e-02],\n",
       "        [-1.84018716e-01],\n",
       "        [ 1.16839491e-01],\n",
       "        [-9.38979536e-02],\n",
       "        [ 7.95795098e-02],\n",
       "        [-1.31983429e-01],\n",
       "        [-2.10834920e-01],\n",
       "        [ 1.03949733e-01],\n",
       "        [-4.57774073e-01],\n",
       "        [ 8.01219702e-01],\n",
       "        [-1.91032648e-01],\n",
       "        [-1.65705100e-01],\n",
       "        [-1.03677437e-02],\n",
       "        [ 1.40899360e-01],\n",
       "        [-1.55697644e-01],\n",
       "        [ 1.31509006e-01],\n",
       "        [ 1.17573798e-01],\n",
       "        [ 1.09607890e-01],\n",
       "        [-3.75133634e-01],\n",
       "        [ 1.25348568e-01],\n",
       "        [ 1.65326580e-01],\n",
       "        [-1.27807826e-01],\n",
       "        [ 1.59177199e-01],\n",
       "        [-1.86201036e-01],\n",
       "        [-3.62243891e-01],\n",
       "        [ 3.09780519e-02],\n",
       "        [-6.63690984e-01],\n",
       "        [-2.36775562e-01],\n",
       "        [-1.63894370e-01],\n",
       "        [-6.97726607e-02],\n",
       "        [ 2.10313797e+00],\n",
       "        [-1.79409236e-02],\n",
       "        [ 5.74122556e-02],\n",
       "        [-1.02986880e-01],\n",
       "        [-1.73574775e-01],\n",
       "        [ 9.39275995e-02],\n",
       "        [-1.69760942e-01],\n",
       "        [-1.21972203e-01],\n",
       "        [ 1.89807892e-01],\n",
       "        [ 1.25858277e-01],\n",
       "        [ 1.50993407e+00],\n",
       "        [-3.54829639e-01],\n",
       "        [-2.14488626e-01],\n",
       "        [ 2.25838885e-01],\n",
       "        [-1.06978163e-01],\n",
       "        [-5.80761969e-01],\n",
       "        [ 1.93173371e-04]], dtype=float32),\n",
       " array([-0.7374777], dtype=float32)]"
      ]
     },
     "execution_count": 15,
     "metadata": {},
     "output_type": "execute_result"
    }
   ],
   "source": [
    "model.get_weights()"
   ]
  },
  {
   "cell_type": "code",
   "execution_count": null,
   "id": "ce001691",
   "metadata": {},
   "outputs": [],
   "source": [
    "#Step 3 : Helper functions \n",
    "# Function to decode the reviews\n",
    "def decode_reviews(encoded_reviews):\n",
    "    return ' '.join([reverse_word_index.get(i,'?') for i in encoded_reviews])\n",
    "\n",
    "# Function to preprocess user input\n",
    "def preprocess_text(text):\n",
    "    words = text.lower().split()\n",
    "    encoded_review = [word_index.get(word,2)+3 for word in words]\n",
    "    padded_review = pad_sequences([encoded_review], maxlen=500)\n",
    "    return padded_review"
   ]
  },
  {
   "cell_type": "code",
   "execution_count": null,
   "id": "9af3f02b",
   "metadata": {},
   "outputs": [],
   "source": [
    "#Step 3\n",
    "## Prediction function\n",
    "def predict_sentiment(review):\n",
    "    preprocessed_input = preprocess_text(review)\n",
    "    prediction = model.predict(preprocessed_input)\n",
    "    print(prediction)\n",
    "    sentiment = \"Positive\" if prediction[0][0] > 0.5 else \"Negative\"\n",
    "    return sentiment, prediction[0][0]"
   ]
  },
  {
   "cell_type": "code",
   "execution_count": 23,
   "id": "e8c93cea",
   "metadata": {},
   "outputs": [
    {
     "name": "stdout",
     "output_type": "stream",
     "text": [
      "\u001b[1m1/1\u001b[0m \u001b[32m━━━━━━━━━━━━━━━━━━━━\u001b[0m\u001b[37m\u001b[0m \u001b[1m0s\u001b[0m 48ms/step\n",
      "[[0.40065366]]\n",
      "Review: Good movie, but not great\n",
      "Sentiment: Negative\n",
      "Score: 0.4006536602973938\n"
     ]
    }
   ],
   "source": [
    "# Step 4\n",
    "example_review = \"Good movie, but not great\"\n",
    "sentiment, score = predict_sentiment(example_review)\n",
    "print(f\"Review: {example_review}\")\n",
    "print(f\"Sentiment: {sentiment}\")\n",
    "print(f\"Score: {score}\")"
   ]
  },
  {
   "cell_type": "code",
   "execution_count": 24,
   "id": "62f4f8a2",
   "metadata": {},
   "outputs": [],
   "source": [
    "## Load the imdb dataset\n",
    "max_features = 1000 # number of words to consider as features(vocab_size)\n",
    "(X_train, Y_train), (x_test, y_test) = imdb.load_data(num_words = max_features)"
   ]
  },
  {
   "cell_type": "code",
   "execution_count": 25,
   "id": "1275ee5a",
   "metadata": {},
   "outputs": [
    {
     "data": {
      "text/plain": [
       "array([list([1, 591, 202, 14, 31, 6, 717, 10, 10, 2, 2, 5, 4, 360, 7, 4, 177, 2, 394, 354, 4, 123, 9, 2, 2, 2, 10, 10, 13, 92, 124, 89, 488, 2, 100, 28, 2, 14, 31, 23, 27, 2, 29, 220, 468, 8, 124, 14, 286, 170, 8, 157, 46, 5, 27, 239, 16, 179, 2, 38, 32, 25, 2, 451, 202, 14, 6, 717]),\n",
       "       list([1, 14, 22, 2, 6, 176, 7, 2, 88, 12, 2, 23, 2, 5, 109, 943, 4, 114, 9, 55, 606, 5, 111, 7, 4, 139, 193, 273, 23, 4, 172, 270, 11, 2, 2, 4, 2, 2, 109, 2, 21, 4, 22, 2, 8, 6, 2, 2, 10, 10, 4, 105, 987, 35, 841, 2, 19, 861, 2, 5, 2, 2, 45, 55, 221, 15, 670, 2, 526, 14, 2, 4, 405, 5, 2, 7, 27, 85, 108, 131, 4, 2, 2, 2, 405, 9, 2, 133, 5, 50, 13, 104, 51, 66, 166, 14, 22, 157, 9, 4, 530, 239, 34, 2, 2, 45, 407, 31, 7, 41, 2, 105, 21, 59, 299, 12, 38, 950, 5, 2, 15, 45, 629, 488, 2, 127, 6, 52, 292, 17, 4, 2, 185, 132, 2, 2, 2, 488, 2, 47, 6, 392, 173, 4, 2, 2, 270, 2, 4, 2, 7, 4, 65, 55, 73, 11, 346, 14, 20, 9, 6, 976, 2, 7, 2, 861, 2, 5, 2, 30, 2, 2, 56, 4, 841, 5, 990, 692, 8, 4, 2, 398, 229, 10, 10, 13, 2, 670, 2, 14, 9, 31, 7, 27, 111, 108, 15, 2, 19, 2, 2, 875, 551, 14, 22, 9, 2, 21, 45, 2, 5, 45, 252, 8, 2, 6, 565, 921, 2, 39, 4, 529, 48, 25, 181, 8, 67, 35, 2, 22, 49, 238, 60, 135, 2, 14, 9, 290, 4, 58, 10, 10, 472, 45, 55, 878, 8, 169, 11, 374, 2, 25, 203, 28, 8, 818, 12, 125, 4, 2]),\n",
       "       list([1, 111, 748, 2, 2, 2, 2, 4, 87, 2, 2, 7, 31, 318, 2, 7, 4, 498, 2, 748, 63, 29, 2, 220, 686, 2, 5, 17, 12, 575, 220, 2, 17, 6, 185, 132, 2, 16, 53, 928, 11, 2, 74, 4, 438, 21, 27, 2, 589, 8, 22, 107, 2, 2, 997, 2, 8, 35, 2, 2, 11, 22, 231, 54, 29, 2, 29, 100, 2, 2, 34, 2, 2, 2, 5, 2, 98, 31, 2, 33, 6, 58, 14, 2, 2, 8, 4, 365, 7, 2, 2, 356, 346, 4, 2, 2, 63, 29, 93, 11, 2, 11, 2, 33, 6, 58, 54, 2, 431, 748, 7, 32, 2, 16, 11, 94, 2, 10, 10, 4, 993, 2, 7, 4, 2, 2, 2, 2, 8, 847, 8, 2, 121, 31, 7, 27, 86, 2, 2, 16, 6, 465, 993, 2, 2, 573, 17, 2, 42, 4, 2, 37, 473, 6, 711, 6, 2, 7, 328, 212, 70, 30, 258, 11, 220, 32, 7, 108, 21, 133, 12, 9, 55, 465, 849, 2, 53, 33, 2, 2, 37, 70, 2, 4, 2, 2, 74, 476, 37, 62, 91, 2, 169, 4, 2, 2, 146, 655, 2, 5, 258, 12, 184, 2, 546, 5, 849, 2, 7, 4, 22, 2, 18, 631, 2, 797, 7, 4, 2, 71, 348, 425, 2, 2, 19, 2, 5, 2, 11, 661, 8, 339, 2, 4, 2, 2, 7, 4, 2, 10, 10, 263, 787, 9, 270, 11, 6, 2, 4, 2, 2, 121, 4, 2, 26, 2, 19, 68, 2, 5, 28, 446, 6, 318, 2, 8, 67, 51, 36, 70, 81, 8, 2, 2, 36, 2, 8, 2, 2, 18, 6, 711, 4, 2, 26, 2, 2, 11, 14, 636, 720, 12, 426, 28, 77, 776, 8, 97, 38, 111, 2, 2, 168, 2, 2, 137, 2, 18, 27, 173, 9, 2, 17, 6, 2, 428, 2, 232, 11, 4, 2, 37, 272, 40, 2, 247, 30, 656, 6, 2, 54, 2, 2, 98, 6, 2, 40, 558, 37, 2, 98, 4, 2, 2, 15, 14, 9, 57, 2, 5, 2, 6, 275, 711, 2, 2, 2, 98, 6, 2, 10, 10, 2, 19, 14, 2, 267, 162, 711, 37, 2, 752, 98, 4, 2, 2, 90, 19, 6, 2, 7, 2, 2, 2, 4, 2, 2, 930, 8, 508, 90, 4, 2, 8, 4, 2, 17, 2, 2, 2, 4, 2, 8, 2, 189, 4, 2, 2, 2, 4, 2, 5, 95, 271, 23, 6, 2, 2, 2, 2, 33, 2, 6, 425, 2, 2, 2, 2, 7, 4, 2, 2, 469, 4, 2, 54, 4, 150, 2, 2, 280, 53, 2, 2, 18, 339, 29, 2, 27, 2, 5, 2, 68, 2, 19, 2, 2, 4, 2, 7, 263, 65, 2, 34, 6, 2, 2, 43, 159, 29, 9, 2, 9, 387, 73, 195, 584, 10, 10, 2, 4, 58, 810, 54, 14, 2, 117, 22, 16, 93, 5, 2, 4, 192, 15, 12, 16, 93, 34, 6, 2, 2, 33, 4, 2, 7, 15, 2, 2, 2, 325, 12, 62, 30, 776, 8, 67, 14, 17, 6, 2, 44, 148, 687, 2, 203, 42, 203, 24, 28, 69, 2, 2, 11, 330, 54, 29, 93, 2, 21, 845, 2, 27, 2, 7, 819, 4, 22, 2, 17, 6, 2, 787, 7, 2, 2, 2, 100, 30, 4, 2, 2, 2, 2, 42, 2, 11, 4, 2, 42, 101, 704, 7, 101, 999, 15, 2, 94, 2, 180, 5, 9, 2, 34, 2, 45, 6, 2, 22, 60, 6, 2, 31, 11, 94, 2, 96, 21, 94, 749, 9, 57, 975]),\n",
       "       ...,\n",
       "       list([1, 13, 2, 15, 8, 135, 14, 9, 35, 32, 46, 394, 20, 62, 30, 2, 21, 45, 184, 78, 4, 2, 910, 769, 2, 2, 395, 2, 5, 2, 11, 119, 2, 89, 2, 4, 116, 218, 78, 21, 407, 100, 30, 128, 262, 15, 7, 185, 2, 284, 2, 2, 37, 315, 4, 226, 20, 272, 2, 40, 29, 152, 60, 181, 8, 30, 50, 553, 362, 80, 119, 12, 21, 846, 2]),\n",
       "       list([1, 11, 119, 241, 9, 4, 840, 20, 12, 468, 15, 94, 2, 562, 791, 39, 4, 86, 107, 8, 97, 14, 31, 33, 4, 2, 7, 743, 46, 2, 9, 2, 5, 4, 768, 47, 8, 79, 90, 145, 164, 162, 50, 6, 501, 119, 7, 9, 4, 78, 232, 15, 16, 224, 11, 4, 333, 20, 4, 985, 200, 5, 2, 5, 9, 2, 8, 79, 357, 4, 20, 47, 220, 57, 206, 139, 11, 12, 5, 55, 117, 212, 13, 2, 92, 124, 51, 45, 2, 71, 536, 13, 520, 14, 20, 6, 2, 7, 470]),\n",
       "       list([1, 6, 52, 2, 430, 22, 9, 220, 2, 8, 28, 2, 519, 2, 6, 769, 15, 47, 6, 2, 2, 8, 114, 5, 33, 222, 31, 55, 184, 704, 2, 2, 19, 346, 2, 5, 6, 364, 350, 4, 184, 2, 9, 133, 2, 11, 2, 2, 21, 4, 2, 2, 570, 50, 2, 2, 9, 6, 2, 17, 6, 2, 2, 21, 17, 6, 2, 232, 2, 2, 29, 266, 56, 96, 346, 194, 308, 9, 194, 21, 29, 218, 2, 19, 4, 78, 173, 7, 27, 2, 2, 2, 718, 2, 9, 6, 2, 17, 210, 5, 2, 2, 47, 77, 395, 14, 172, 173, 18, 2, 2, 2, 82, 127, 27, 173, 11, 6, 392, 217, 21, 50, 9, 57, 65, 12, 2, 53, 40, 35, 390, 7, 11, 4, 2, 7, 4, 314, 74, 6, 792, 22, 2, 19, 714, 727, 2, 382, 4, 91, 2, 439, 19, 14, 20, 9, 2, 2, 2, 4, 756, 25, 124, 4, 31, 12, 16, 93, 804, 34, 2, 2])],\n",
       "      dtype=object)"
      ]
     },
     "execution_count": 25,
     "metadata": {},
     "output_type": "execute_result"
    }
   ],
   "source": [
    "x_test"
   ]
  },
  {
   "cell_type": "code",
   "execution_count": 26,
   "id": "4d3fcf27",
   "metadata": {},
   "outputs": [],
   "source": [
    "def add_padding(text):\n",
    "    padded_review = pad_sequences([text], maxlen=500)\n",
    "    return padded_review"
   ]
  },
  {
   "cell_type": "code",
   "execution_count": 28,
   "id": "4ead7dfa",
   "metadata": {},
   "outputs": [
    {
     "name": "stdout",
     "output_type": "stream",
     "text": [
      "(25000,) <class 'numpy.ndarray'>\n"
     ]
    }
   ],
   "source": [
    "print(y_test.shape, type(y_test))"
   ]
  },
  {
   "cell_type": "code",
   "execution_count": null,
   "id": "c16d2b79",
   "metadata": {},
   "outputs": [],
   "source": [
    "x_test_processed = pad_sequences(x_test, maxlen=500)"
   ]
  },
  {
   "cell_type": "code",
   "execution_count": 34,
   "id": "14236e94",
   "metadata": {},
   "outputs": [
    {
     "name": "stdout",
     "output_type": "stream",
     "text": [
      "\u001b[1m782/782\u001b[0m \u001b[32m━━━━━━━━━━━━━━━━━━━━\u001b[0m\u001b[37m\u001b[0m \u001b[1m32s\u001b[0m 40ms/step\n"
     ]
    },
    {
     "data": {
      "text/plain": [
       "array([[0.09713704],\n",
       "       [0.9044285 ],\n",
       "       [0.8979006 ],\n",
       "       ...,\n",
       "       [0.19232342],\n",
       "       [0.11779734],\n",
       "       [0.929595  ]], dtype=float32)"
      ]
     },
     "execution_count": 34,
     "metadata": {},
     "output_type": "execute_result"
    }
   ],
   "source": [
    "y_pred = model.predict(x_test_processed)\n",
    "y_pred"
   ]
  },
  {
   "cell_type": "code",
   "execution_count": 42,
   "id": "6ffc5818",
   "metadata": {},
   "outputs": [
    {
     "name": "stdout",
     "output_type": "stream",
     "text": [
      "0.79428\n",
      "[[ 9733  2767]\n",
      " [ 2376 10124]]\n",
      "              precision    recall  f1-score   support\n",
      "\n",
      "           0       0.80      0.78      0.79     12500\n",
      "           1       0.79      0.81      0.80     12500\n",
      "\n",
      "    accuracy                           0.79     25000\n",
      "   macro avg       0.79      0.79      0.79     25000\n",
      "weighted avg       0.79      0.79      0.79     25000\n",
      "\n"
     ]
    }
   ],
   "source": [
    "from sklearn.metrics import confusion_matrix, classification_report, accuracy_score\n",
    "score = accuracy_score(y_test, y_pred > 0.5)\n",
    "cm = confusion_matrix(y_test, y_pred > 0.5)\n",
    "cr = classification_report(y_test, y_pred > 0.5)\n",
    "print(score)\n",
    "print(cm)\n",
    "print(cr)"
   ]
  },
  {
   "cell_type": "code",
   "execution_count": 45,
   "id": "1450388c",
   "metadata": {},
   "outputs": [
    {
     "name": "stdout",
     "output_type": "stream",
     "text": [
      "\u001b[1m782/782\u001b[0m \u001b[32m━━━━━━━━━━━━━━━━━━━━\u001b[0m\u001b[37m\u001b[0m \u001b[1m34s\u001b[0m 41ms/step - accuracy: 0.7943 - loss: 0.4837\n"
     ]
    },
    {
     "data": {
      "text/plain": [
       "[0.48372313380241394, 0.7942799925804138]"
      ]
     },
     "execution_count": 45,
     "metadata": {},
     "output_type": "execute_result"
    }
   ],
   "source": [
    "model.evaluate(x_test_processed, y_test)"
   ]
  },
  {
   "cell_type": "code",
   "execution_count": null,
   "id": "39dde9c3",
   "metadata": {},
   "outputs": [],
   "source": []
  }
 ],
 "metadata": {
  "kernelspec": {
   "display_name": "Python 3",
   "language": "python",
   "name": "python3"
  },
  "language_info": {
   "codemirror_mode": {
    "name": "ipython",
    "version": 3
   },
   "file_extension": ".py",
   "mimetype": "text/x-python",
   "name": "python",
   "nbconvert_exporter": "python",
   "pygments_lexer": "ipython3",
   "version": "3.11.0"
  }
 },
 "nbformat": 4,
 "nbformat_minor": 5
}
