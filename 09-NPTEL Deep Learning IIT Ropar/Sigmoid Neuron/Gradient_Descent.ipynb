{
 "cells": [
  {
   "cell_type": "code",
   "execution_count": 7,
   "metadata": {},
   "outputs": [],
   "source": [
    "X = [0.5,2.5]\n",
    "Y = [0.2,0.9]"
   ]
  },
  {
   "cell_type": "markdown",
   "metadata": {},
   "source": [
    "## Sigmoid Function"
   ]
  },
  {
   "cell_type": "code",
   "execution_count": 8,
   "metadata": {},
   "outputs": [],
   "source": [
    "import numpy as np\n",
    "\n",
    "def f(w,b,x):\n",
    "    return 1.0/(1.0+np.exp(-(w*x+b)))"
   ]
  },
  {
   "cell_type": "markdown",
   "metadata": {},
   "source": [
    "## Loss Function"
   ]
  },
  {
   "cell_type": "code",
   "execution_count": 9,
   "metadata": {},
   "outputs": [],
   "source": [
    "def loss(w,b):\n",
    "    err = 0.0\n",
    "    for x,y in zip(X,Y):\n",
    "        fx = f(w,b,x)\n",
    "        err+=0.5*(fx-y)**2\n",
    "    return err"
   ]
  },
  {
   "cell_type": "markdown",
   "metadata": {},
   "source": [
    "## Gradients"
   ]
  },
  {
   "cell_type": "code",
   "execution_count": 10,
   "metadata": {},
   "outputs": [],
   "source": [
    "def grad_w(w,b,x,y):\n",
    "    fx = f(w,b,x)\n",
    "    return (fx-y)*fx*(1-fx)*x\n",
    "def grad_b(w,b,x,y):\n",
    "    fx = f(w,b,x)\n",
    "    return (fx-y)*fx*(1-fx)"
   ]
  },
  {
   "cell_type": "markdown",
   "metadata": {},
   "source": [
    "## Gradient Descent"
   ]
  },
  {
   "cell_type": "code",
   "execution_count": 36,
   "metadata": {},
   "outputs": [],
   "source": [
    "def gradient_descent():\n",
    "    w,b,eta,epochs = 0,0,10,100000\n",
    "    for _ in range(epochs):\n",
    "        delw, delb = 0,0\n",
    "        for x,y in zip(X,Y):\n",
    "            delw += grad_w(w,b,x,y)\n",
    "            delb += grad_b(w,b,x,y)\n",
    "        w = w-eta*delw\n",
    "        b = b-eta*delb\n",
    "    return w,b"
   ]
  },
  {
   "cell_type": "code",
   "execution_count": 37,
   "metadata": {},
   "outputs": [
    {
     "name": "stdout",
     "output_type": "stream",
     "text": [
      "{'w': np.float64(1.791759469228054), 'b': np.float64(-2.2821740957339163)}\n",
      "{'x': 0.5, 'y_pred': np.float64(0.2000000000000002), 'y_true': 0.2}\n",
      "{'x': 2.5, 'y_pred': np.float64(0.8999999999999999), 'y_true': 0.9}\n"
     ]
    }
   ],
   "source": [
    "w,b = gradient_descent()\n",
    "print({'w':w,'b':b})\n",
    "i=0\n",
    "for x in X:\n",
    "    y_pred = f(w,b,x)\n",
    "    print({'x':x,'y_pred':y_pred,'y_true':Y[i]})\n",
    "    i+=1"
   ]
  }
 ],
 "metadata": {
  "kernelspec": {
   "display_name": "Python 3",
   "language": "python",
   "name": "python3"
  },
  "language_info": {
   "codemirror_mode": {
    "name": "ipython",
    "version": 3
   },
   "file_extension": ".py",
   "mimetype": "text/x-python",
   "name": "python",
   "nbconvert_exporter": "python",
   "pygments_lexer": "ipython3",
   "version": "3.12.5"
  }
 },
 "nbformat": 4,
 "nbformat_minor": 2
}
