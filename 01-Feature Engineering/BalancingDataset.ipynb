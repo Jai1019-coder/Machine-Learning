{
 "cells": [
  {
   "cell_type": "code",
   "execution_count": 1,
   "metadata": {},
   "outputs": [],
   "source": [
    "import numpy as np\n",
    "import pandas as pd\n",
    "import sklearn.utils.random"
   ]
  },
  {
   "cell_type": "code",
   "execution_count": 8,
   "metadata": {},
   "outputs": [
    {
     "name": "stdout",
     "output_type": "stream",
     "text": [
      "(900, 100)\n"
     ]
    }
   ],
   "source": [
    "np.random.seed(123)\n",
    "\n",
    "n_samples = 1000\n",
    "class_0_ratio = 0.9\n",
    "n_class_0 = int(n_samples*class_0_ratio)\n",
    "n_class_1 = n_samples-n_class_0\n",
    "print((n_class_0, n_class_1))"
   ]
  },
  {
   "cell_type": "code",
   "execution_count": 11,
   "metadata": {},
   "outputs": [
    {
     "name": "stdout",
     "output_type": "stream",
     "text": [
      "   feature1  feature2  target\n",
      "0  3.528724  2.328462       0\n",
      "1  5.084072  3.038230       0\n",
      "2  3.620777  3.147064       0\n",
      "3  3.637726  2.638254       0\n",
      "4  3.318929  0.924234       0\n",
      "     feature1  feature2  target\n",
      "995  1.720690 -0.021511       1\n",
      "996  0.949078  1.709793       1\n",
      "997  1.709784  1.324917       1\n",
      "998  0.817689 -0.450763       1\n",
      "999  1.838910  0.240773       1\n"
     ]
    }
   ],
   "source": [
    "##Creating dataframe\n",
    "\n",
    "class_0 = pd.DataFrame({\n",
    "    'feature1': np.random.normal(loc = 4, scale = 1, size = n_class_0),\n",
    "    'feature2': np.random.normal(loc=2, scale = 1, size = n_class_0),\n",
    "    'target': [0]*n_class_0\n",
    "})\n",
    "class_1 = pd.DataFrame({\n",
    "    'feature1': np.random.normal(loc = 1, scale = 1, size = n_class_1),\n",
    "    'feature2': np.random.normal(loc = 0, scale =1, size = n_class_1),\n",
    "    'target': [1]*n_class_1\n",
    "})\n",
    "df = pd.concat([class_0,class_1]).reset_index(drop = True)\n",
    "print(df.head())\n",
    "print(df.tail())"
   ]
  },
  {
   "cell_type": "code",
   "execution_count": null,
   "metadata": {},
   "outputs": [],
   "source": [
    "df_majority = df[df['target'] == 0]\n",
    "df_minority = df[df['target']==1]"
   ]
  },
  {
   "cell_type": "code",
   "execution_count": 18,
   "metadata": {},
   "outputs": [
    {
     "data": {
      "text/plain": [
       "target\n",
       "1    900\n",
       "0    900\n",
       "Name: count, dtype: int64"
      ]
     },
     "execution_count": 18,
     "metadata": {},
     "output_type": "execute_result"
    }
   ],
   "source": [
    "##upsampling\n",
    "from sklearn.utils import resample\n",
    "df_minority_upsampled = resample(df_minority, replace = True, n_samples = len(df_majority), random_state = 1)\n",
    "df_minority_upsampled['target'].value_counts()\n",
    "df_upsampled = pd.concat([df_minority_upsampled,df_majority])\n",
    "df_upsampled['target'].value_counts()"
   ]
  },
  {
   "cell_type": "code",
   "execution_count": 21,
   "metadata": {},
   "outputs": [
    {
     "name": "stdout",
     "output_type": "stream",
     "text": [
      "     feature1  feature2  target\n",
      "900  0.775921 -1.097447       1\n",
      "901  1.338840 -0.941759       1\n",
      "902  0.728472  1.670939       1\n",
      "903  2.365531  0.067791       1\n",
      "904  0.262626  1.630785       1\n",
      "..        ...       ...     ...\n",
      "87   3.673956  3.020214       0\n",
      "793  4.186430  0.085031       0\n",
      "243  3.560699  2.998476       0\n",
      "348  3.805538  1.358779       0\n",
      "586  3.878580  2.794334       0\n",
      "\n",
      "[200 rows x 3 columns]\n"
     ]
    }
   ],
   "source": [
    "##downsampling\n",
    "df_majority_downsampled = resample(df_majority, replace = True, n_samples=len(df_minority), random_state = 1)\n",
    "df_downsampled = pd.concat([df_minority, df_majority_downsampled])\n",
    "print(df_downsampled)"
   ]
  }
 ],
 "metadata": {
  "kernelspec": {
   "display_name": "Python 3",
   "language": "python",
   "name": "python3"
  },
  "language_info": {
   "codemirror_mode": {
    "name": "ipython",
    "version": 3
   },
   "file_extension": ".py",
   "mimetype": "text/x-python",
   "name": "python",
   "nbconvert_exporter": "python",
   "pygments_lexer": "ipython3",
   "version": "3.12.5"
  }
 },
 "nbformat": 4,
 "nbformat_minor": 2
}
